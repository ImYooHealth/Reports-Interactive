{
 "cells": [
  {
   "cell_type": "code",
   "execution_count": 3,
   "id": "8210b655-f125-4024-812b-3f760ac9e3df",
   "metadata": {},
   "outputs": [
    {
     "data": {
      "text/plain": [
       "'/mnt/data/bio/Vincent/Sample Report Demo Data'"
      ]
     },
     "execution_count": 3,
     "metadata": {},
     "output_type": "execute_result"
    }
   ],
   "source": [
    "import os\n",
    "os.getcwd()"
   ]
  },
  {
   "cell_type": "code",
   "execution_count": 5,
   "id": "6423f092-d784-4399-9d55-a9f5846b0667",
   "metadata": {},
   "outputs": [
    {
     "name": "stdout",
     "output_type": "stream",
     "text": [
      "Loaded session from /home/vincent/.config/ihapi/session.pickle\n"
     ]
    }
   ],
   "source": [
    "import ihapi\n",
    "ihapi.login()\n",
    "\n",
    "import pandas\n",
    "import numpy\n",
    "import os\n",
    "import shutil"
   ]
  },
  {
   "cell_type": "markdown",
   "id": "d722bd6e-742f-4f88-8205-ba2fb157b5d5",
   "metadata": {},
   "source": [
    "# Inputs:\n",
    "\n",
    "- participant_id\n",
    "- cell_types\n",
    "- abundance method (e.g. TPM)\n",
    "\n",
    "# Outputs:\n",
    "\n",
    "- per cell type:\n",
    "  - volcano csv that is the output of deseq2_differential_expression\n",
    "  - named: `{participant_id}/Volcanoes/{cell_type_name}.csv`\n",
    "  \n",
    "- per gene:\n",
    "  - gene abundance csv with the columns: is_self, cell_type, abundance\n",
    "  - named: `{participant_id}/Abundances/{gene_name}_.csv`"
   ]
  },
  {
   "cell_type": "markdown",
   "id": "7f8866b3-47bc-4b6f-a489-d5b6b11edb74",
   "metadata": {},
   "source": [
    "# Setup"
   ]
  },
  {
   "cell_type": "code",
   "execution_count": 6,
   "id": "d86888f0-4b13-493b-8503-3917dedabf9a",
   "metadata": {},
   "outputs": [],
   "source": [
    "#PARTICIPANT_ID = 353 # Vincent\n",
    "PARTICIPANT_ID = 3 # David\n",
    "ABUNDANCE_METHOD = \"tpm\"\n",
    "CELL_TYPES = [\"Monocytes\", \"NK Cells\", \"T Cells\", \"B Cells\"]\n",
    "HIERARCHY_LEVEL = 2\n",
    "HIERARCHY_NAME = \"Filtered WBCs 2023-03-21\"\n",
    "NUM_GENES = 5000\n",
    "CHROMOSOME_SPECIFIC_GENE = \"XIST\"\n",
    "# Determined via threshold_otsu(numpy.array(chromosome_specific_gene_abundances)) (and just looking at it)\n",
    "CHROMOSOME_GENE_ABUNDANCE_THRESHOLD = 5e-5\n",
    "DATA_DIR = \"data\""
   ]
  },
  {
   "cell_type": "code",
   "execution_count": 7,
   "id": "ef3c8b4f-acc3-4aa6-8aad-a43597a18955",
   "metadata": {},
   "outputs": [],
   "source": [
    "data_directory = os.path.join(DATA_DIR, str(PARTICIPANT_ID))\n",
    "abundances_directory = os.path.join(DATA_DIR, str(PARTICIPANT_ID), \"Abundances\")\n",
    "volcanoes_directory = os.path.join(DATA_DIR, str(PARTICIPANT_ID), \"Volcanoes\")"
   ]
  },
  {
   "cell_type": "code",
   "execution_count": 8,
   "id": "e72d10aa-404c-4a68-83e7-ab6abd097ea1",
   "metadata": {},
   "outputs": [],
   "source": [
    "for directory in [data_directory, abundances_directory, volcanoes_directory]:\n",
    "\n",
    "    if os.path.exists(directory):\n",
    "        shutil.rmtree(directory)\n",
    "    \n",
    "    os.makedirs(directory)"
   ]
  },
  {
   "cell_type": "code",
   "execution_count": 9,
   "id": "cac57764-99d0-4f95-83ae-b4f4e7689bad",
   "metadata": {},
   "outputs": [],
   "source": [
    "SAMPLE_PROCESSING_QUERY = [\n",
    "    [\n",
    "        ('TAP II Heparin',),\n",
    "        ('Cryopreserving PBMCs',)\n",
    "    ]\n",
    "]\n",
    "\n",
    "PARTICIPANT_QUERY = None\n",
    "\n",
    "SINGLE_CELL_ASSAY_QUERY = [\n",
    "    {\n",
    "        \"protocol_name\": \"10X v3.1 3 Prime\"\n",
    "    },\n",
    "    {\n",
    "        \"protocol_name\": \"10X v3 3 Prime\"\n",
    "    },\n",
    "    {\n",
    "        \"protocol_name\": \"10X v3.1 3 Prime HT\"\n",
    "    },\n",
    "    {\n",
    "        \"protocol_name\": \"10X v3.1 LT\"\n",
    "    }\n",
    "]\n",
    "\n",
    "COMPUTATIONAL_PIPELINE = 5"
   ]
  },
  {
   "cell_type": "code",
   "execution_count": 10,
   "id": "890c7421-a1e6-4d70-bc5f-7f263a285b0e",
   "metadata": {},
   "outputs": [],
   "source": [
    "#adata = ihapi.matrix.get_matrix(\n",
    "#    sample_processing_workflows=SAMPLE_PROCESSING_QUERY,\n",
    "#    participant=PARTICIPANT_QUERY,\n",
    "#    cell_barcoding_run=SINGLE_CELL_ASSAY_QUERY,\n",
    "#    process_chain_id=COMPUTATIONAL_PIPELINE\n",
    "#)"
   ]
  },
  {
   "cell_type": "code",
   "execution_count": null,
   "id": "bab3c770-d6d4-425a-bf45-fb3531fb94a5",
   "metadata": {},
   "outputs": [],
   "source": []
  },
  {
   "cell_type": "code",
   "execution_count": 13,
   "id": "e8bb49cb-98e7-49fb-a499-214a01bee162",
   "metadata": {},
   "outputs": [
    {
     "name": "stdout",
     "output_type": "stream",
     "text": [
      "Deleted matrix.pickle successfully.\n",
      "Multiple valid cell set feature matrices, returning first\n"
     ]
    },
    {
     "name": "stderr",
     "output_type": "stream",
     "text": [
      "Retrieved: 100%|██████████| 12.4G/12.4G [00:16<00:00, 797MB/s]\n"
     ]
    }
   ],
   "source": [
    "import os\n",
    "import pickle\n",
    "\n",
    "def get_data():\n",
    "    pickle_file = 'matrix.pickle'\n",
    "\n",
    "    if os.path.exists(pickle_file):\n",
    "        with open(pickle_file, 'rb') as file:\n",
    "            adata = pickle.load(file)\n",
    "    else:\n",
    "        # Make a dummy API call\n",
    "        adata = ihapi.matrix.get_matrix(\n",
    "            sample_processing_workflows=SAMPLE_PROCESSING_QUERY,\n",
    "            participant=PARTICIPANT_QUERY,\n",
    "            cell_barcoding_run=SINGLE_CELL_ASSAY_QUERY,\n",
    "            process_chain_id=COMPUTATIONAL_PIPELINE\n",
    "        )\n",
    "        ihapi.metadata.retrieve(adata, process_chain_id=COMPUTATIONAL_PIPELINE, funcs=[ihapi.metadata.funcs.batch])\n",
    "        ihapi.annotate.apply_annotations(adata, HIERARCHY_NAME)\n",
    "\n",
    "        # Save the data to the pickle file\n",
    "        with open(pickle_file, 'wb') as file:\n",
    "            print('Writing adata pickle...')\n",
    "            pickle.dump(adata, file)\n",
    "\n",
    "    return adata\n",
    "\n",
    "def delete_pickle_file():\n",
    "    pickle_file = 'matrix.pickle'\n",
    "\n",
    "    if os.path.exists(pickle_file):\n",
    "        os.remove(pickle_file)\n",
    "        print(f\"Deleted {pickle_file} successfully.\")\n",
    "    else:\n",
    "        print(f\"{pickle_file} does not exist.\")\n",
    "        \n",
    "delete_pickle_file()\n",
    "adata = get_data()"
   ]
  },
  {
   "cell_type": "markdown",
   "id": "43cddfe2-804c-4e91-8cd3-f0698a428370",
   "metadata": {},
   "source": [
    "# Restrict analysis to only people in same chromosome parity equivalence class"
   ]
  },
  {
   "cell_type": "code",
   "execution_count": 14,
   "id": "f8cc1725-7c55-43cc-8afe-a7c4dc321ee3",
   "metadata": {},
   "outputs": [],
   "source": [
    "below_threshold_participant_ids = set()\n",
    "above_threshold_participant_ids = set()\n",
    "is_participant_below_threshold = None\n",
    "participant_gene_data = []\n",
    "\n",
    "for participant_id in adata.obs[\"Participant IDs\"].unique():\n",
    "    \n",
    "    participant_adata = adata[adata.obs[\"Participant IDs\"] == participant_id]\n",
    "    \n",
    "    total_transcript_counts = participant_adata.X.sum()\n",
    "    \n",
    "    participant_gene_data.append(numpy.array(participant_adata.X.sum(axis=0)).flatten()/total_transcript_counts)\n",
    "    \n",
    "    chromosome_specific_gene_count = participant_adata[:, adata.var[\"name\"] == CHROMOSOME_SPECIFIC_GENE].X.sum()\n",
    "    chromosome_specific_gene_abundance = chromosome_specific_gene_count/total_transcript_counts\n",
    "    \n",
    "    if chromosome_specific_gene_abundance < CHROMOSOME_GENE_ABUNDANCE_THRESHOLD:\n",
    "        below_threshold_participant_ids.add(participant_id)\n",
    "        \n",
    "        if participant_id == PARTICIPANT_ID:\n",
    "            is_participant_below_threshold = True\n",
    "    else:\n",
    "        above_threshold_participant_ids.add(participant_id)\n",
    "        \n",
    "        if participant_id == PARTICIPANT_ID:\n",
    "            is_participant_below_threshold = False\n",
    "            \n",
    "if is_participant_below_threshold:\n",
    "    eligible_participant_ids = below_threshold_participant_ids\n",
    "else:\n",
    "    eligible_participant_ids = above_threshold_participant_ids\n",
    "    \n",
    "filtered_adata = adata[adata.obs[\"Participant IDs\"].isin(eligible_participant_ids)].copy()\n",
    "\n",
    "participant_gene_data = numpy.array(participant_gene_data)"
   ]
  },
  {
   "cell_type": "code",
   "execution_count": 15,
   "id": "c937773c-2f6f-4d83-80eb-6b9aa45e8e9f",
   "metadata": {},
   "outputs": [],
   "source": [
    "gene_maxes = participant_gene_data.max(axis=0)\n",
    "gene_mask = numpy.zeros(gene_maxes.shape, dtype=bool)\n",
    "gene_mask[gene_maxes.argsort()[-NUM_GENES:]] = 1\n",
    "filtered_adata = filtered_adata[:, gene_mask].copy()"
   ]
  },
  {
   "cell_type": "code",
   "execution_count": 16,
   "id": "7f8c1052-74b4-4015-9186-c62b67363ce8",
   "metadata": {},
   "outputs": [],
   "source": [
    "filtered_adata.obs[\"is_self\"] = filtered_adata.obs[\"Participant IDs\"] == PARTICIPANT_ID\n",
    "filtered_adata.obs[\"is_self\"] = filtered_adata.obs[\"is_self\"].astype(str)\n",
    "filtered_adata.obs[\"batch\"] = [f\"B{batch}\" for batch in filtered_adata.obs[\"batch\"].astype(str)]"
   ]
  },
  {
   "cell_type": "code",
   "execution_count": 17,
   "id": "47482555-4f34-492d-826f-6d5ddd5b017e",
   "metadata": {},
   "outputs": [],
   "source": [
    "gene_abundances_data = []\n",
    "\n",
    "for cell_type in CELL_TYPES:\n",
    "    \n",
    "    cell_type_adata = filtered_adata[filtered_adata.obs[f\"cell_type_level_{HIERARCHY_LEVEL}\"] == cell_type]\n",
    "    \n",
    "    for sample_id in cell_type_adata.obs[\"Participant IDs\"].unique():\n",
    "        \n",
    "        cell_type_participant_adata = cell_type_adata[cell_type_adata.obs[\"Participant IDs\"] == participant_id]\n",
    "        total_transcript_counts = cell_type_participant_adata.X.sum()\n",
    "        gene_abundances = numpy.array(cell_type_participant_adata.X.sum(axis=0)).flatten()\n",
    "        tpms = gene_abundances / total_transcript_counts * 1e6\n",
    "        \n",
    "        gene_abundances_data.extend([\n",
    "            {\n",
    "                \"is_self\": str(participant_id == PARTICIPANT_ID),\n",
    "                \"abundance_value\": tpm,\n",
    "                \"cell_type\": cell_type,\n",
    "                \"gene_name\": gene_name\n",
    "            }\n",
    "            \n",
    "            for tpm, gene_name in zip(tpms, cell_type_participant_adata.var[\"name\"].values)\n",
    "        ])\n",
    "    \n",
    "    de_df = ihapi.differential_expression.deseq2_differential_expression(\n",
    "        cell_type_adata,\n",
    "        formula='~is_self',\n",
    "        sample_column='Sample IDs',\n",
    "        contrast_elements=['is_self', 'True', 'False']\n",
    "    )\n",
    "    \n",
    "    file_name = os.path.join(volcanoes_directory, f\"{cell_type}.csv\")\n",
    "    \n",
    "    de_df[\"gene_name\"] = filtered_adata.var.loc[de_df.index.values.astype(str)][\"name\"].values\n",
    "    de_df[\"magstat\"] = numpy.abs(de_df[\"stat\"])\n",
    "    de_df.dropna(inplace=True)\n",
    "    de_df.rename(columns={ \"-log10padj\": \"log10padj\" }, inplace=True)\n",
    "    \n",
    "    de_df.to_csv(file_name)\n",
    "\n",
    "with open(os.path.join(data_directory, \"gene_list.csv\"), \"w\") as genes_file:\n",
    "    genes_file.write(\"\\n\".join(filtered_adata.var.loc[de_df.index.values.astype(str)][\"name\"].values))"
   ]
  },
  {
   "cell_type": "code",
   "execution_count": 18,
   "id": "0c7a2815-2d21-465a-bc63-14b8944da03d",
   "metadata": {},
   "outputs": [
    {
     "name": "stdout",
     "output_type": "stream",
     "text": [
      "rm: cannot remove '*.csv': No such file or directory\n",
      "rm: cannot remove '*.R': No such file or directory\n"
     ]
    }
   ],
   "source": [
    "try:\n",
    "    !rm *.log\n",
    "except:\n",
    "    pass\n",
    "try:\n",
    "    !rm *.csv\n",
    "except:\n",
    "    pass\n",
    "try:\n",
    "    !rm *.R\n",
    "except:\n",
    "    pass"
   ]
  },
  {
   "cell_type": "code",
   "execution_count": 19,
   "id": "89d58ef2-d892-4053-8d1e-512ea611379c",
   "metadata": {},
   "outputs": [],
   "source": [
    "gene_abundances_df = pandas.DataFrame.from_records(gene_abundances_data)\n",
    "\n",
    "for gene_name in gene_abundances_df[\"gene_name\"].unique():\n",
    "    \n",
    "    gene_df = gene_abundances_df[gene_abundances_df[\"gene_name\"] == gene_name].copy()\n",
    "    \n",
    "    gene_df.drop(\"gene_name\", axis=1, inplace=True)\n",
    "    gene_df.dropna(inplace=True)\n",
    "    \n",
    "    file_name = os.path.join(abundances_directory, f\"{gene_name}.csv\")\n",
    "    \n",
    "    gene_df.to_csv(file_name)\n",
    "    \n",
    "    if gene_df[\"abundance_value\"].isna().sum() > 0:\n",
    "        print(gene_name)"
   ]
  },
  {
   "cell_type": "code",
   "execution_count": 20,
   "id": "4165298e-95df-4659-b4d3-15a9bb3126a6",
   "metadata": {},
   "outputs": [],
   "source": [
    "import zipfile\n",
    "import os\n",
    "\n",
    "def zip_directory(directory_path, output_path):\n",
    "    with zipfile.ZipFile(output_path, 'w', zipfile.ZIP_DEFLATED) as zip_file:\n",
    "        for folder_name, subfolders, file_names in os.walk(directory_path):\n",
    "            for file_name in file_names:\n",
    "                file_path = os.path.join(folder_name, file_name)\n",
    "                zip_file.write(file_path, arcname=os.path.relpath(file_path, directory_path))\n",
    "\n",
    "zip_directory(data_directory, os.path.join(\"data\", f\"{PARTICIPANT_ID}.zip\"))"
   ]
  },
  {
   "cell_type": "code",
   "execution_count": null,
   "id": "72c954c5-c258-4f37-8755-65e2b5437164",
   "metadata": {},
   "outputs": [],
   "source": []
  },
  {
   "cell_type": "code",
   "execution_count": null,
   "id": "0ef215b6-c3c0-410a-92a9-66a799326caa",
   "metadata": {},
   "outputs": [],
   "source": []
  },
  {
   "cell_type": "code",
   "execution_count": null,
   "id": "3a259e6d-078e-461a-ba59-c4a15c49feae",
   "metadata": {},
   "outputs": [],
   "source": []
  },
  {
   "cell_type": "code",
   "execution_count": null,
   "id": "35a44211-3e2c-40e4-9a80-9dd8eac26f0e",
   "metadata": {},
   "outputs": [],
   "source": []
  },
  {
   "cell_type": "code",
   "execution_count": null,
   "id": "3952e2b0-93e1-41c2-8b96-ce053f27b318",
   "metadata": {},
   "outputs": [],
   "source": []
  },
  {
   "cell_type": "code",
   "execution_count": null,
   "id": "898f8642-1677-4015-8083-6047d6db17bb",
   "metadata": {},
   "outputs": [],
   "source": []
  },
  {
   "cell_type": "code",
   "execution_count": null,
   "id": "80c6da3b-53ae-4381-aac7-f1fbe6feb566",
   "metadata": {},
   "outputs": [],
   "source": []
  },
  {
   "cell_type": "code",
   "execution_count": null,
   "id": "bb7493f9-8def-4558-8c64-b7c631cb87b4",
   "metadata": {},
   "outputs": [],
   "source": []
  },
  {
   "cell_type": "code",
   "execution_count": null,
   "id": "d5cc664a-e85d-40a6-bf8b-78ce2d651376",
   "metadata": {},
   "outputs": [],
   "source": []
  }
 ],
 "metadata": {
  "kernelspec": {
   "display_name": "Python 3 (ipykernel)",
   "language": "python",
   "name": "python3"
  },
  "language_info": {
   "codemirror_mode": {
    "name": "ipython",
    "version": 3
   },
   "file_extension": ".py",
   "mimetype": "text/x-python",
   "name": "python",
   "nbconvert_exporter": "python",
   "pygments_lexer": "ipython3",
   "version": "3.10.6"
  }
 },
 "nbformat": 4,
 "nbformat_minor": 5
}
